{
  "nbformat": 4,
  "nbformat_minor": 0,
  "metadata": {
    "colab": {
      "name": "Grokking algorithms CH1.ipynb",
      "provenance": [],
      "collapsed_sections": [],
      "toc_visible": true
    },
    "kernelspec": {
      "name": "python3",
      "display_name": "Python 3"
    },
    "language_info": {
      "name": "python"
    }
  },
  "cells": [
    {
      "cell_type": "markdown",
      "metadata": {
        "id": "tOJEE1BctyCe"
      },
      "source": [
        "# **CH 1** Introduction to Algorithms\n"
      ]
    },
    {
      "cell_type": "markdown",
      "metadata": {
        "id": "mhVx7JM4uFNZ"
      },
      "source": [
        "this chapter talks about:\n",
        "\n",
        "1.   binary search.\n",
        "2.   calculate algorithm runing time using (Big O notaion).\n",
        "3.   recursion.\n",
        "\n",
        " "
      ]
    },
    {
      "cell_type": "markdown",
      "metadata": {
        "id": "lwzrQJuLhzK4"
      },
      "source": [
        "- Algorithm is a set of instructions to complete a task, any piece of code could be called an algorithm.\n"
      ]
    },
    {
      "cell_type": "markdown",
      "metadata": {
        "id": "pDQwyotui-jN"
      },
      "source": [
        "###1-Binary Search"
      ]
    },
    {
      "cell_type": "markdown",
      "metadata": {
        "id": "ldqzg0yHjJ3N"
      },
      "source": [
        "Binary search is an algorithm; its input is a sorted list of elements if your value is in the list it returns its position otherwise it returns null.\n"
      ]
    },
    {
      "cell_type": "markdown",
      "metadata": {
        "id": "HLXG5KnRdhYR"
      },
      "source": [
        "For Example: if you are looking for a number between 1 and 100 if you are using **simple search** you start guessing 1,2,3,4 ..... and so on that's not an efficient way of searching because you are eleminating only one element with each guess, a better way to guess would be to start with 50 that way you would be eleminating half the elements and the next guess would be the middle number to cut another half and so on until reaching the number. "
      ]
    },
    {
      "cell_type": "markdown",
      "metadata": {
        "id": "XOhoFO6PfKFj"
      },
      "source": [
        "suppose you are looking for a word in a dictionary that has 240000 words, in the worst case how many steps would every search algorithm take?\n",
        "\n",
        "\n",
        "\n",
        "*  simple search would take 240000 step if the word you are looking for is the last word in the dictionary.\n",
        "*  binary search you are eliminating so much numbers of words in each step so binary search would take 18 step to find the word, binary search would take Log2 n steps."
      ]
    },
    {
      "cell_type": "markdown",
      "metadata": {
        "id": "4MGExYaIldLY"
      },
      "source": [
        "implementing binary search using Python, we will be using an array, the binary_search function will take a sorted array and a number if the number is in the array it returns the position otherwise it returns null."
      ]
    },
    {
      "cell_type": "code",
      "metadata": {
        "id": "CHOrYTtcmXhW"
      },
      "source": [
        "def binary_search(list,item):\n",
        "\n",
        "  low = 0\n",
        "  high = len(list) - 1\n",
        "\n",
        "  while low <= high:\n",
        "    mid = ( low + high ) //  2\n",
        "    guess = list[mid]\n",
        "\n",
        "    if (guess == item):\n",
        "      return mid \n",
        "\n",
        "    if (guess < item):\n",
        "      low = mid + 1\n",
        "    else:\n",
        "      high = mid - 1\n",
        "  return 'Not Found'\n",
        "\n",
        "my_list = [1,3,5,7,10]\n",
        "\n",
        "print(binary_search(my_list,3))\n"
      ],
      "execution_count": null,
      "outputs": []
    },
    {
      "cell_type": "markdown",
      "metadata": {
        "id": "D2NQp7gureEq"
      },
      "source": [
        "### 2- Running time/ Big O notation"
      ]
    },
    {
      "cell_type": "markdown",
      "metadata": {
        "id": "x0DTNoLNrrEq"
      },
      "source": [
        ""
      ]
    }
  ]
}